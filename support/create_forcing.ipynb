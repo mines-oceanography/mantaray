{
 "cells": [
  {
   "cell_type": "markdown",
   "id": "4bc43fd1-b4ae-4d93-805b-92a4e374e2ab",
   "metadata": {},
   "source": [
    "# Template for creating current and bathymetry files"
   ]
  },
  {
   "cell_type": "code",
   "execution_count": 1,
   "id": "f2f9e5cb-e82a-432f-8611-5298645cdb9e",
   "metadata": {},
   "outputs": [],
   "source": [
    "import numpy as np\n",
    "import xarray as xr\n",
    "import matplotlib.pyplot as plt"
   ]
  },
  {
   "cell_type": "markdown",
   "id": "21eaaef2-86f8-4518-81c8-c8411b84ac80",
   "metadata": {},
   "source": [
    "### Initialize domain"
   ]
  },
  {
   "cell_type": "code",
   "execution_count": 6,
   "id": "b41ed170-1be6-4f2e-889b-9fb8bd5dc9f3",
   "metadata": {},
   "outputs": [],
   "source": [
    "# Length of the domain in meters\n",
    "Lx = 20e3\n",
    "Ly = 10e3\n",
    "\n",
    "# Grid spacing in meters\n",
    "dx = 10\n",
    "dy = 10\n",
    "\n",
    "x = np.arange(0, Lx, dx)\n",
    "y = np.arange(0, Ly, dy)"
   ]
  },
  {
   "cell_type": "markdown",
   "id": "12d2a058-fdfd-46c0-9fd0-f1c7c1421a63",
   "metadata": {},
   "source": [
    "### Define currents\n",
    "In this example, we're creating a zonal cosine jet with a maximum speed of 0.3 m/s"
   ]
  },
  {
   "cell_type": "code",
   "execution_count": 10,
   "id": "5a1291f8-3ac5-4b7e-9c38-06c478e384f0",
   "metadata": {},
   "outputs": [],
   "source": [
    "output_current = \"data/currents/constant_vertical_gradient.nc\"\n",
    "\n",
    "# Define u and v current components \n",
    "# Maximum speed in m/s\n",
    "Umax = 3\n",
    "# Number of points in x and y\n",
    "nx, ny = len(x), len(y)\n",
    "\n",
    "xc = np.linspace(0, 1, ny)\n",
    "u = Umax*xc\n",
    "u = np.tile(u, (nx, 1)).T\n",
    "v = np.zeros((ny, nx))\n",
    "\n",
    "left_quarter_index = nx // 4\n",
    "u[:, :left_quarter_index] = 0\n",
    "\n",
    "ds = xr.Dataset(\n",
    "    data_vars={\n",
    "        \"x\": ([\"x\"], x),\n",
    "        \"y\": ([\"y\"], y),\n",
    "        \"u\": ([\"y\", \"x\"], u, {\"long_name\": \"u\", \"units\": \"m/s\"}),\n",
    "        \"v\": ([\"y\", \"x\"], v, {\"long_name\": \"v\", \"units\": \"m/s\"}),\n",
    "    })\n",
    "\n",
    "ds.to_netcdf(output_current, format=\"NETCDF3_CLASSIC\")"
   ]
  },
  {
   "cell_type": "code",
   "execution_count": 11,
   "id": "16fa046f-a1f9-40ff-9911-7374515748ba",
   "metadata": {},
   "outputs": [
    {
     "data": {
      "text/plain": [
       "<matplotlib.collections.QuadMesh at 0x140d5e360>"
      ]
     },
     "execution_count": 11,
     "metadata": {},
     "output_type": "execute_result"
    },
    {
     "data": {
      "image/png": "[encoded data removed]",
      "text/plain": [
       "<Figure size 640x480 with 2 Axes>"
      ]
     },
     "metadata": {},
     "output_type": "display_data"
    }
   ],
   "source": [
    "ds.u.plot.pcolormesh()"
   ]
  },
  {
   "cell_type": "markdown",
   "id": "750bd65d-a3ec-45a1-aeb0-4750099687f0",
   "metadata": {},
   "source": [
    "### Define bathymetry\n",
    "Here, we will consider constant deep water "
   ]
  },
  {
   "cell_type": "code",
   "execution_count": 12,
   "id": "18e97c61-528e-4c50-a104-4930c93c781d",
   "metadata": {},
   "outputs": [],
   "source": [
    "output_bathy = \"data/bathymetry/bathy_constant_vertical_gradient.nc\"\n",
    "\n",
    "# Considering a constant depth of 4km\n",
    "D = 4e3 \n",
    "depth = D*np.ones((ny, nx))\n",
    "\n",
    "ds = xr.Dataset(\n",
    "    data_vars={\n",
    "        \"x\": ([\"x\"], x),\n",
    "        \"y\": ([\"y\"], y),\n",
    "        \"depth\": ([\"y\", \"x\"], depth, {\"long_name\": \"depth\", \"units\": \"m\"}),\n",
    "    })\n",
    "\n",
    "#ds.to_netcdf(output_bathy, format=\"NETCDF3_CLASSIC\")"
   ]
  },
  {
   "cell_type": "code",
   "execution_count": null,
   "id": "628501c5-1d9d-416f-a225-41f8990bd4f3",
   "metadata": {},
   "outputs": [],
   "source": []
  }
 ],
 "metadata": {
  "kernelspec": {
   "display_name": "Python 3 (ipykernel)",
   "language": "python",
   "name": "python3"
  },
  "language_info": {
   "codemirror_mode": {
    "name": "ipython",
    "version": 3
   },
   "file_extension": ".py",
   "mimetype": "text/x-python",
   "name": "python",
   "nbconvert_exporter": "python",
   "pygments_lexer": "ipython3",
   "version": "3.12.8"
  }
 },
 "nbformat": 4,
 "nbformat_minor": 5
}
